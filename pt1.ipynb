{
 "cells": [
  {
   "cell_type": "markdown",
   "source": [
    "### Part 1: correlation"
   ],
   "metadata": {
    "collapsed": false
   }
  },
  {
   "cell_type": "code",
   "execution_count": 13,
   "outputs": [],
   "source": [
    "# |(g,fi)|∥g∥⋅∥fi∥∼maxi"
   ],
   "metadata": {
    "collapsed": false
   }
  },
  {
   "cell_type": "code",
   "execution_count": 14,
   "outputs": [],
   "source": [
    "import numpy as np\n",
    "import matplotlib.pyplot as plt\n",
    "from abc import ABC, abstractmethod\n",
    "from sklearn.datasets import load_digits"
   ],
   "metadata": {
    "collapsed": false
   }
  },
  {
   "cell_type": "code",
   "execution_count": 15,
   "outputs": [],
   "source": [
    "# some utils\n",
    "def normalize_vector(v: np.ndarray):\n",
    "    return v / np.sqrt(np.dot(v, v))\n",
    "\n",
    "\n",
    "def check_correlation(g: np.ndarray, f: np.ndarray) -> float:\n",
    "    return np.dot(f, g) / np.sqrt(np.dot(f, f) * np.dot(g, g))\n"
   ],
   "metadata": {
    "collapsed": false
   }
  },
  {
   "cell_type": "code",
   "execution_count": 16,
   "outputs": [],
   "source": [
    "# Image interface\n",
    "class Image(ABC):\n",
    "    @abstractmethod\n",
    "    def __init__(self):\n",
    "        self.vector = None\n",
    "        self.target = None\n",
    "        self.is_normalized = False\n",
    "        raise NotImplementedError\n",
    "\n",
    "    @abstractmethod\n",
    "    def normalize(self):\n",
    "        raise NotImplementedError\n",
    "\n",
    "    @abstractmethod\n",
    "    def check_correlation(self, other):\n",
    "        raise NotImplementedError\n"
   ],
   "metadata": {
    "collapsed": false
   }
  },
  {
   "cell_type": "code",
   "execution_count": 17,
   "outputs": [],
   "source": [
    "# Interface implementation\n",
    "class DigitImage(Image):\n",
    "    def __init__(self, vector: np.ndarray, target = None):\n",
    "        self.vector = vector\n",
    "        self.target = target\n",
    "        self.is_normalized: bool = False\n",
    "\n",
    "    def normalize(self):\n",
    "        self.vector = normalize_vector(self.vector)\n",
    "        self.is_normalized = True\n",
    "        return self\n",
    "\n",
    "    def check_correlation(self, other: Image) -> float:\n",
    "        return check_correlation(self.vector, other.vector)\n",
    "\n",
    "    def __repr__(self):\n",
    "        return f\"{self.target}: {self.vector}\"\n"
   ],
   "metadata": {
    "collapsed": false
   }
  },
  {
   "cell_type": "markdown",
   "source": [
    "### Some tests for digits"
   ],
   "metadata": {
    "collapsed": false
   }
  },
  {
   "cell_type": "code",
   "execution_count": 18,
   "outputs": [
    {
     "data": {
      "text/plain": "(1797, 64)"
     },
     "execution_count": 18,
     "metadata": {},
     "output_type": "execute_result"
    }
   ],
   "source": [
    "digits = load_digits()\n",
    "digits.data.shape"
   ],
   "metadata": {
    "collapsed": false
   }
  },
  {
   "cell_type": "code",
   "execution_count": 31,
   "outputs": [
    {
     "data": {
      "text/plain": "21"
     },
     "execution_count": 31,
     "metadata": {},
     "output_type": "execute_result"
    }
   ],
   "source": [
    "import random\n",
    "\n",
    "\n",
    "sample_target_ind = random.randint(0,100)\n",
    "sample_target_ind\n"
   ],
   "metadata": {
    "collapsed": false
   }
  },
  {
   "cell_type": "code",
   "execution_count": 32,
   "outputs": [
    {
     "name": "stdout",
     "output_type": "stream",
     "text": [
      "1\n"
     ]
    },
    {
     "data": {
      "text/plain": "<Figure size 640x480 with 1 Axes>",
      "image/png": "[encoded data removed]"
     },
     "metadata": {},
     "output_type": "display_data"
    }
   ],
   "source": [
    "fig = plt.figure()\n",
    "ax = fig.add_subplot(111)\n",
    "plt.gray()\n",
    "ax.imshow(digits.images[sample_target_ind])\n",
    "print(digits.target[sample_target_ind])"
   ],
   "metadata": {
    "collapsed": false
   }
  },
  {
   "cell_type": "code",
   "execution_count": 27,
   "outputs": [
    {
     "data": {
      "text/plain": "[0: [ 0.  0.  5. 13.  9.  1.  0.  0.  0.  0. 13. 15. 10. 15.  5.  0.  0.  3.\n  15.  2.  0. 11.  8.  0.  0.  4. 12.  0.  0.  8.  8.  0.  0.  5.  8.  0.\n   0.  9.  8.  0.  0.  4. 11.  0.  1. 12.  7.  0.  0.  2. 14.  5. 10. 12.\n   0.  0.  0.  0.  6. 13. 10.  0.  0.  0.],\n 1: [ 0.  0.  0. 12. 13.  5.  0.  0.  0.  0.  0. 11. 16.  9.  0.  0.  0.  0.\n   3. 15. 16.  6.  0.  0.  0.  7. 15. 16. 16.  2.  0.  0.  0.  0.  1. 16.\n  16.  3.  0.  0.  0.  0.  1. 16. 16.  6.  0.  0.  0.  0.  1. 16. 16.  6.\n   0.  0.  0.  0.  0. 11. 16. 10.  0.  0.],\n 2: [ 0.  0.  0.  4. 15. 12.  0.  0.  0.  0.  3. 16. 15. 14.  0.  0.  0.  0.\n   8. 13.  8. 16.  0.  0.  0.  0.  1.  6. 15. 11.  0.  0.  0.  1.  8. 13.\n  15.  1.  0.  0.  0.  9. 16. 16.  5.  0.  0.  0.  0.  3. 13. 16. 16. 11.\n   5.  0.  0.  0.  0.  3. 11. 16.  9.  0.],\n 3: [ 0.  0.  7. 15. 13.  1.  0.  0.  0.  8. 13.  6. 15.  4.  0.  0.  0.  2.\n   1. 13. 13.  0.  0.  0.  0.  0.  2. 15. 11.  1.  0.  0.  0.  0.  0.  1.\n  12. 12.  1.  0.  0.  0.  0.  0.  1. 10.  8.  0.  0.  0.  8.  4.  5. 14.\n   9.  0.  0.  0.  7. 13. 13.  9.  0.  0.],\n 4: [ 0.  0.  0.  1. 11.  0.  0.  0.  0.  0.  0.  7.  8.  0.  0.  0.  0.  0.\n   1. 13.  6.  2.  2.  0.  0.  0.  7. 15.  0.  9.  8.  0.  0.  5. 16. 10.\n   0. 16.  6.  0.  0.  4. 15. 16. 13. 16.  1.  0.  0.  0.  0.  3. 15. 10.\n   0.  0.  0.  0.  0.  2. 16.  4.  0.  0.],\n 5: [ 0.  0. 12. 10.  0.  0.  0.  0.  0.  0. 14. 16. 16. 14.  0.  0.  0.  0.\n  13. 16. 15. 10.  1.  0.  0.  0. 11. 16. 16.  7.  0.  0.  0.  0.  0.  4.\n   7. 16.  7.  0.  0.  0.  0.  0.  4. 16.  9.  0.  0.  0.  5.  4. 12. 16.\n   4.  0.  0.  0.  9. 16. 16. 10.  0.  0.],\n 6: [ 0.  0.  0. 12. 13.  0.  0.  0.  0.  0.  5. 16.  8.  0.  0.  0.  0.  0.\n  13. 16.  3.  0.  0.  0.  0.  0. 14. 13.  0.  0.  0.  0.  0.  0. 15. 12.\n   7.  2.  0.  0.  0.  0. 13. 16. 13. 16.  3.  0.  0.  0.  7. 16. 11. 15.\n   8.  0.  0.  0.  1.  9. 15. 11.  3.  0.],\n 7: [ 0.  0.  7.  8. 13. 16. 15.  1.  0.  0.  7.  7.  4. 11. 12.  0.  0.  0.\n   0.  0.  8. 13.  1.  0.  0.  4.  8.  8. 15. 15.  6.  0.  0.  2. 11. 15.\n  15.  4.  0.  0.  0.  0.  0. 16.  5.  0.  0.  0.  0.  0.  9. 15.  1.  0.\n   0.  0.  0.  0. 13.  5.  0.  0.  0.  0.],\n 8: [ 0.  0.  9. 14.  8.  1.  0.  0.  0.  0. 12. 14. 14. 12.  0.  0.  0.  0.\n   9. 10.  0. 15.  4.  0.  0.  0.  3. 16. 12. 14.  2.  0.  0.  0.  4. 16.\n  16.  2.  0.  0.  0.  3. 16.  8. 10. 13.  2.  0.  0.  1. 15.  1.  3. 16.\n   8.  0.  0.  0. 11. 16. 15. 11.  1.  0.],\n 9: [ 0.  0. 11. 12.  0.  0.  0.  0.  0.  2. 16. 16. 16. 13.  0.  0.  0.  3.\n  16. 12. 10. 14.  0.  0.  0.  1. 16.  1. 12. 15.  0.  0.  0.  0. 13. 16.\n   9. 15.  2.  0.  0.  0.  0.  3.  0.  9. 11.  0.  0.  0.  0.  0.  9. 15.\n   4.  0.  0.  0.  9. 12. 13.  3.  0.  0.]]"
     },
     "execution_count": 27,
     "metadata": {},
     "output_type": "execute_result"
    }
   ],
   "source": [
    "images = [DigitImage(data, target=target) for data, target in zip(digits.data[:10],digits.target[:10])]\n",
    "images"
   ],
   "metadata": {
    "collapsed": false
   }
  },
  {
   "cell_type": "code",
   "execution_count": 28,
   "outputs": [
    {
     "name": "stdout",
     "output_type": "stream",
     "text": [
      "0: [0.         0.         0.09024036 0.23462493 0.16243265 0.01804807\n",
      " 0.         0.         0.         0.         0.23462493 0.27072108\n",
      " 0.18048072 0.27072108 0.09024036 0.         0.         0.05414422\n",
      " 0.27072108 0.03609614 0.         0.19852879 0.14438458 0.\n",
      " 0.         0.07219229 0.21657686 0.         0.         0.14438458\n",
      " 0.14438458 0.         0.         0.09024036 0.14438458 0.\n",
      " 0.         0.16243265 0.14438458 0.         0.         0.07219229\n",
      " 0.19852879 0.         0.01804807 0.21657686 0.1263365  0.\n",
      " 0.         0.03609614 0.25267301 0.09024036 0.18048072 0.21657686\n",
      " 0.         0.         0.         0.         0.10828843 0.23462493\n",
      " 0.18048072 0.         0.         0.        ]\n",
      "True\n"
     ]
    }
   ],
   "source": [
    "target_image = DigitImage(digits.data[sample_target_ind], target=digits.target[sample_target_ind])\n",
    "correlations = []\n",
    "max_corr = 0\n",
    "max_corr_ind = -1\n",
    "target_image.normalize()\n",
    "for i, digit in enumerate(images):\n",
    "    curr = target_image.check_correlation(digit.normalize())\n",
    "    correlations.append(curr)\n",
    "    if curr > max_corr:\n",
    "        max_corr = curr\n",
    "        max_corr_ind = i\n",
    "\n",
    "correlations\n",
    "print(images[max_corr_ind])\n",
    "print(images[max_corr_ind].target == target_image.target)"
   ],
   "metadata": {
    "collapsed": false
   }
  },
  {
   "cell_type": "code",
   "execution_count": 50,
   "outputs": [],
   "source": [
    "# make digits as in computer\n"
   ],
   "metadata": {
    "collapsed": false
   }
  }
 ],
 "metadata": {
  "kernelspec": {
   "display_name": "Python 3",
   "language": "python",
   "name": "python3"
  },
  "language_info": {
   "codemirror_mode": {
    "name": "ipython",
    "version": 2
   },
   "file_extension": ".py",
   "mimetype": "text/x-python",
   "name": "python",
   "nbconvert_exporter": "python",
   "pygments_lexer": "ipython2",
   "version": "2.7.6"
  }
 },
 "nbformat": 4,
 "nbformat_minor": 0
}
